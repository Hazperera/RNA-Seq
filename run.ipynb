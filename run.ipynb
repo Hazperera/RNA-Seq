{
  "nbformat": 4,
  "nbformat_minor": 0,
  "metadata": {
    "kernelspec": {
      "display_name": "Python 3",
      "language": "python",
      "name": "python3"
    },
    "language_info": {
      "codemirror_mode": {
        "name": "ipython",
        "version": 3
      },
      "file_extension": ".py",
      "mimetype": "text/x-python",
      "name": "python",
      "nbconvert_exporter": "python",
      "pygments_lexer": "ipython3",
      "version": "3.6.6"
    },
    "colab": {
      "name": "run.ipynb",
      "provenance": [],
      "collapsed_sections": [],
      "include_colab_link": true
    }
  },
  "cells": [
    {
      "cell_type": "markdown",
      "metadata": {
        "id": "view-in-github",
        "colab_type": "text"
      },
      "source": [
        "<a href=\"https://colab.research.google.com/github/praveenpareek11/RNA-Seq/blob/master/run.ipynb\" target=\"_parent\"><img src=\"https://colab.research.google.com/assets/colab-badge.svg\" alt=\"Open In Colab\"/></a>"
      ]
    },
    {
      "cell_type": "code",
      "metadata": {
        "id": "sUQHqqlcOmAB",
        "colab_type": "code",
        "colab": {}
      },
      "source": [
        "!pip install cmapPy"
      ],
      "execution_count": 0,
      "outputs": []
    },
    {
      "cell_type": "code",
      "metadata": {
        "id": "RtAKoYycZL_V",
        "colab_type": "code",
        "colab": {}
      },
      "source": [
        "'''Import necessary libraries'''\n",
        "import random"
      ],
      "execution_count": 0,
      "outputs": []
    },
    {
      "cell_type": "code",
      "metadata": {
        "id": "lSVK7gsyOkOO",
        "colab_type": "code",
        "colab": {}
      },
      "source": [
        "from cmapPy.pandasGEXpress.parse import parse\n",
        "from matplotlib import colors as mcolors\n",
        "from sklearn.decomposition import PCA\n",
        "import matplotlib.pyplot as plt"
      ],
      "execution_count": 0,
      "outputs": []
    },
    {
      "cell_type": "code",
      "metadata": {
        "id": "-MRJcOXROkOU",
        "colab_type": "code",
        "colab": {}
      },
      "source": [
        "'''Read the dataset'''\n",
        "data = parse('/content/drive/My Drive/Colab Notebooks/data/PAAD.gct', convert_neg_666=True)"
      ],
      "execution_count": 0,
      "outputs": []
    },
    {
      "cell_type": "code",
      "metadata": {
        "id": "FzKrki4tOkOa",
        "colab_type": "code",
        "outputId": "7f3ce2c8-4253-45dc-a479-30bb9de08e32",
        "colab": {
          "base_uri": "https://localhost:8080/",
          "height": 102
        }
      },
      "source": [
        "print(data)"
      ],
      "execution_count": 6,
      "outputs": [
        {
          "output_type": "stream",
          "text": [
            "GCT1.3\n",
            "src: /content/drive/My Drive/Colab Notebooks/data/PAAD.gct\n",
            "data_df: [18465 rows x 183 columns]\n",
            "row_metadata_df: [18465 rows x 0 columns]\n",
            "col_metadata_df: [183 rows x 124 columns]\n"
          ],
          "name": "stdout"
        }
      ]
    },
    {
      "cell_type": "markdown",
      "metadata": {
        "id": "2CLDnxuJxaxg",
        "colab_type": "text"
      },
      "source": [
        "So the above output shows that the GCT file has three dataframes in it.\n",
        "The parse function of cmapPy library is used to read the filetype GCT/GCTX. It converts the data into \"GCToo\" object, which is further explained. The three dataframes are described below. We'll use this in our further analysis of the RNA-Seq data.\n",
        "\n",
        "These are:\n",
        "- **data_df:** It has 18465 rows (Gene ID) abd 183 columns (Sample Name/ID)\n",
        "- **row_metadata_df:** It has row metadata and When we see the type, It is empty dataframe. This means in our data, the row metadata is not present.\n",
        "- **col_metadata_df:** It has 183 columns (Sample Names/ID) and 124 rows (Column metadata like histological_type, Patient_ID, status(is he alive or not)) for each sample."
      ]
    },
    {
      "cell_type": "code",
      "metadata": {
        "id": "_PtftvmOOkOg",
        "colab_type": "code",
        "colab": {}
      },
      "source": [
        "#Renaming the dataframes for convenience.\n",
        "data_df = data.data_df\n",
        "row_metadata_df = data.row_metadata_df\n",
        "col_metadata_df = data.col_metadata_df"
      ],
      "execution_count": 0,
      "outputs": []
    },
    {
      "cell_type": "code",
      "metadata": {
        "id": "7ESzJZP9OkOl",
        "colab_type": "code",
        "outputId": "3e082f2a-eae9-4c86-c674-788772b03207",
        "colab": {
          "base_uri": "https://localhost:8080/",
          "height": 335
        }
      },
      "source": [
        "#Get a first insight of the 1st dataframe. It has RNA ID as index and the Sample Name as the name of columns.\n",
        "data_df.head(5)"
      ],
      "execution_count": 8,
      "outputs": [
        {
          "output_type": "execute_result",
          "data": {
            "text/html": [
              "<div>\n",
              "<style scoped>\n",
              "    .dataframe tbody tr th:only-of-type {\n",
              "        vertical-align: middle;\n",
              "    }\n",
              "\n",
              "    .dataframe tbody tr th {\n",
              "        vertical-align: top;\n",
              "    }\n",
              "\n",
              "    .dataframe thead th {\n",
              "        text-align: right;\n",
              "    }\n",
              "</style>\n",
              "<table border=\"1\" class=\"dataframe\">\n",
              "  <thead>\n",
              "    <tr style=\"text-align: right;\">\n",
              "      <th>cid</th>\n",
              "      <th>aab1-Primary solid Tumor</th>\n",
              "      <th>aab4-Primary solid Tumor</th>\n",
              "      <th>aab6-Primary solid Tumor</th>\n",
              "      <th>aab8-Primary solid Tumor</th>\n",
              "      <th>aab9-Primary solid Tumor</th>\n",
              "      <th>aaba-Primary solid Tumor</th>\n",
              "      <th>aabe-Primary solid Tumor</th>\n",
              "      <th>aabf-Primary solid Tumor</th>\n",
              "      <th>aabh-Primary solid Tumor</th>\n",
              "      <th>aabi-Primary solid Tumor</th>\n",
              "      <th>aabk-Primary solid Tumor</th>\n",
              "      <th>aabo-Primary solid Tumor</th>\n",
              "      <th>aabp-Primary solid Tumor</th>\n",
              "      <th>aabr-Primary solid Tumor</th>\n",
              "      <th>aabt-Primary solid Tumor</th>\n",
              "      <th>aabu-Primary solid Tumor</th>\n",
              "      <th>aabv-Primary solid Tumor</th>\n",
              "      <th>aaqa-Primary solid Tumor</th>\n",
              "      <th>aaqe-Primary solid Tumor</th>\n",
              "      <th>aaqi-Primary solid Tumor</th>\n",
              "      <th>aaqj-Primary solid Tumor</th>\n",
              "      <th>aaql-Primary solid Tumor</th>\n",
              "      <th>aaqm-Primary solid Tumor</th>\n",
              "      <th>a9i5-Primary solid Tumor</th>\n",
              "      <th>a9i7-Primary solid Tumor</th>\n",
              "      <th>a9i9-Primary solid Tumor</th>\n",
              "      <th>a9ib-Primary solid Tumor</th>\n",
              "      <th>a9ic-Primary solid Tumor</th>\n",
              "      <th>a9ih-Primary solid Tumor</th>\n",
              "      <th>a9ij-Primary solid Tumor</th>\n",
              "      <th>a9il-Primary solid Tumor</th>\n",
              "      <th>a9in-Primary solid Tumor</th>\n",
              "      <th>a9io-Primary solid Tumor</th>\n",
              "      <th>a9ir-Primary solid Tumor</th>\n",
              "      <th>a9is-Primary solid Tumor</th>\n",
              "      <th>a9iu-Primary solid Tumor</th>\n",
              "      <th>a9iv-Primary solid Tumor</th>\n",
              "      <th>a9ix-Primary solid Tumor</th>\n",
              "      <th>a9iz-Primary solid Tumor</th>\n",
              "      <th>a9j0-Primary solid Tumor</th>\n",
              "      <th>...</th>\n",
              "      <th>aaup-Primary solid Tumor</th>\n",
              "      <th>aauq-Primary solid Tumor</th>\n",
              "      <th>aaur-Primary solid Tumor</th>\n",
              "      <th>aaus-Primary solid Tumor</th>\n",
              "      <th>aaut-Primary solid Tumor</th>\n",
              "      <th>aauu-Primary solid Tumor</th>\n",
              "      <th>aauv-Primary solid Tumor</th>\n",
              "      <th>aauw-Primary solid Tumor</th>\n",
              "      <th>a7w4-Primary solid Tumor</th>\n",
              "      <th>a7sx-Primary solid Tumor</th>\n",
              "      <th>a8f3-Primary solid Tumor</th>\n",
              "      <th>a9q5-Primary solid Tumor</th>\n",
              "      <th>a5n4-Primary solid Tumor</th>\n",
              "      <th>a75w-Primary solid Tumor</th>\n",
              "      <th>a5re-Primary solid Tumor</th>\n",
              "      <th>a5qy-Primary solid Tumor</th>\n",
              "      <th>aa2a-Primary solid Tumor</th>\n",
              "      <th>a7b8-Primary solid Tumor</th>\n",
              "      <th>aa9m-Primary solid Tumor</th>\n",
              "      <th>aaas-Primary solid Tumor</th>\n",
              "      <th>a8rm-Primary solid Tumor</th>\n",
              "      <th>a8ro-Primary solid Tumor</th>\n",
              "      <th>a8rp-Primary solid Tumor</th>\n",
              "      <th>a774-Primary solid Tumor</th>\n",
              "      <th>a776-Primary solid Tumor</th>\n",
              "      <th>a779-Primary solid Tumor</th>\n",
              "      <th>a77e-Primary solid Tumor</th>\n",
              "      <th>a77g-Primary solid Tumor</th>\n",
              "      <th>a77j-Primary solid Tumor</th>\n",
              "      <th>aaug-Primary solid Tumor</th>\n",
              "      <th>aauh-Primary solid Tumor</th>\n",
              "      <th>aaui-Primary solid Tumor</th>\n",
              "      <th>aaul-Primary solid Tumor</th>\n",
              "      <th>a8t3-Primary solid Tumor</th>\n",
              "      <th>a8t5-Primary solid Tumor</th>\n",
              "      <th>a89d-Solid Tissue Normal</th>\n",
              "      <th>a89d-Primary solid Tumor</th>\n",
              "      <th>a8sy-Primary solid Tumor</th>\n",
              "      <th>a8lh-Primary solid Tumor</th>\n",
              "      <th>aapl-Primary solid Tumor</th>\n",
              "    </tr>\n",
              "    <tr>\n",
              "      <th>rid</th>\n",
              "      <th></th>\n",
              "      <th></th>\n",
              "      <th></th>\n",
              "      <th></th>\n",
              "      <th></th>\n",
              "      <th></th>\n",
              "      <th></th>\n",
              "      <th></th>\n",
              "      <th></th>\n",
              "      <th></th>\n",
              "      <th></th>\n",
              "      <th></th>\n",
              "      <th></th>\n",
              "      <th></th>\n",
              "      <th></th>\n",
              "      <th></th>\n",
              "      <th></th>\n",
              "      <th></th>\n",
              "      <th></th>\n",
              "      <th></th>\n",
              "      <th></th>\n",
              "      <th></th>\n",
              "      <th></th>\n",
              "      <th></th>\n",
              "      <th></th>\n",
              "      <th></th>\n",
              "      <th></th>\n",
              "      <th></th>\n",
              "      <th></th>\n",
              "      <th></th>\n",
              "      <th></th>\n",
              "      <th></th>\n",
              "      <th></th>\n",
              "      <th></th>\n",
              "      <th></th>\n",
              "      <th></th>\n",
              "      <th></th>\n",
              "      <th></th>\n",
              "      <th></th>\n",
              "      <th></th>\n",
              "      <th></th>\n",
              "      <th></th>\n",
              "      <th></th>\n",
              "      <th></th>\n",
              "      <th></th>\n",
              "      <th></th>\n",
              "      <th></th>\n",
              "      <th></th>\n",
              "      <th></th>\n",
              "      <th></th>\n",
              "      <th></th>\n",
              "      <th></th>\n",
              "      <th></th>\n",
              "      <th></th>\n",
              "      <th></th>\n",
              "      <th></th>\n",
              "      <th></th>\n",
              "      <th></th>\n",
              "      <th></th>\n",
              "      <th></th>\n",
              "      <th></th>\n",
              "      <th></th>\n",
              "      <th></th>\n",
              "      <th></th>\n",
              "      <th></th>\n",
              "      <th></th>\n",
              "      <th></th>\n",
              "      <th></th>\n",
              "      <th></th>\n",
              "      <th></th>\n",
              "      <th></th>\n",
              "      <th></th>\n",
              "      <th></th>\n",
              "      <th></th>\n",
              "      <th></th>\n",
              "      <th></th>\n",
              "      <th></th>\n",
              "      <th></th>\n",
              "      <th></th>\n",
              "      <th></th>\n",
              "      <th></th>\n",
              "    </tr>\n",
              "  </thead>\n",
              "  <tbody>\n",
              "    <tr>\n",
              "      <th>SLC35E2</th>\n",
              "      <td>7.45</td>\n",
              "      <td>8.1</td>\n",
              "      <td>7.2</td>\n",
              "      <td>8.0</td>\n",
              "      <td>7.65</td>\n",
              "      <td>8.1</td>\n",
              "      <td>8.2</td>\n",
              "      <td>8.2</td>\n",
              "      <td>7.55</td>\n",
              "      <td>8.45</td>\n",
              "      <td>7.5</td>\n",
              "      <td>7.55</td>\n",
              "      <td>7.8</td>\n",
              "      <td>8.15</td>\n",
              "      <td>8.7</td>\n",
              "      <td>8.0</td>\n",
              "      <td>6.5</td>\n",
              "      <td>6.55</td>\n",
              "      <td>8.1</td>\n",
              "      <td>7.3</td>\n",
              "      <td>7.95</td>\n",
              "      <td>7.3</td>\n",
              "      <td>8.35</td>\n",
              "      <td>6.4</td>\n",
              "      <td>8.25</td>\n",
              "      <td>8.55</td>\n",
              "      <td>7.5</td>\n",
              "      <td>7.65</td>\n",
              "      <td>7.45</td>\n",
              "      <td>8.1</td>\n",
              "      <td>8.7</td>\n",
              "      <td>8.0</td>\n",
              "      <td>7.5</td>\n",
              "      <td>9.95</td>\n",
              "      <td>8.7</td>\n",
              "      <td>8.05</td>\n",
              "      <td>7.65</td>\n",
              "      <td>7.65</td>\n",
              "      <td>7.85</td>\n",
              "      <td>8.05</td>\n",
              "      <td>...</td>\n",
              "      <td>8.8</td>\n",
              "      <td>8.25</td>\n",
              "      <td>9.0</td>\n",
              "      <td>8.05</td>\n",
              "      <td>8.5</td>\n",
              "      <td>7.7</td>\n",
              "      <td>8.2</td>\n",
              "      <td>8.8</td>\n",
              "      <td>8.4</td>\n",
              "      <td>8.65</td>\n",
              "      <td>7.45</td>\n",
              "      <td>7.7</td>\n",
              "      <td>7.85</td>\n",
              "      <td>7.7</td>\n",
              "      <td>7.4</td>\n",
              "      <td>8.5</td>\n",
              "      <td>7.15</td>\n",
              "      <td>8.15</td>\n",
              "      <td>8.0</td>\n",
              "      <td>7.8</td>\n",
              "      <td>7.6</td>\n",
              "      <td>6.4</td>\n",
              "      <td>8.55</td>\n",
              "      <td>8.5</td>\n",
              "      <td>7.45</td>\n",
              "      <td>7.5</td>\n",
              "      <td>8.4</td>\n",
              "      <td>8.45</td>\n",
              "      <td>7.95</td>\n",
              "      <td>8.2</td>\n",
              "      <td>8.45</td>\n",
              "      <td>7.95</td>\n",
              "      <td>8.3</td>\n",
              "      <td>8.05</td>\n",
              "      <td>8.2</td>\n",
              "      <td>7.25</td>\n",
              "      <td>7.4</td>\n",
              "      <td>7.35</td>\n",
              "      <td>7.2</td>\n",
              "      <td>9.05</td>\n",
              "    </tr>\n",
              "    <tr>\n",
              "      <th>A1BG</th>\n",
              "      <td>6.40</td>\n",
              "      <td>5.8</td>\n",
              "      <td>6.4</td>\n",
              "      <td>5.8</td>\n",
              "      <td>6.70</td>\n",
              "      <td>6.6</td>\n",
              "      <td>6.3</td>\n",
              "      <td>6.5</td>\n",
              "      <td>5.70</td>\n",
              "      <td>6.30</td>\n",
              "      <td>6.8</td>\n",
              "      <td>5.90</td>\n",
              "      <td>5.7</td>\n",
              "      <td>6.70</td>\n",
              "      <td>5.4</td>\n",
              "      <td>5.8</td>\n",
              "      <td>6.7</td>\n",
              "      <td>6.00</td>\n",
              "      <td>7.0</td>\n",
              "      <td>5.7</td>\n",
              "      <td>6.50</td>\n",
              "      <td>7.8</td>\n",
              "      <td>10.00</td>\n",
              "      <td>7.3</td>\n",
              "      <td>6.10</td>\n",
              "      <td>7.20</td>\n",
              "      <td>6.5</td>\n",
              "      <td>7.10</td>\n",
              "      <td>6.50</td>\n",
              "      <td>9.3</td>\n",
              "      <td>9.5</td>\n",
              "      <td>9.7</td>\n",
              "      <td>8.6</td>\n",
              "      <td>8.00</td>\n",
              "      <td>8.5</td>\n",
              "      <td>6.20</td>\n",
              "      <td>9.00</td>\n",
              "      <td>6.70</td>\n",
              "      <td>5.30</td>\n",
              "      <td>5.10</td>\n",
              "      <td>...</td>\n",
              "      <td>6.8</td>\n",
              "      <td>7.20</td>\n",
              "      <td>7.5</td>\n",
              "      <td>7.80</td>\n",
              "      <td>7.4</td>\n",
              "      <td>5.9</td>\n",
              "      <td>7.7</td>\n",
              "      <td>6.3</td>\n",
              "      <td>7.1</td>\n",
              "      <td>6.00</td>\n",
              "      <td>6.30</td>\n",
              "      <td>6.7</td>\n",
              "      <td>5.20</td>\n",
              "      <td>8.1</td>\n",
              "      <td>7.2</td>\n",
              "      <td>8.1</td>\n",
              "      <td>6.20</td>\n",
              "      <td>7.40</td>\n",
              "      <td>6.6</td>\n",
              "      <td>7.6</td>\n",
              "      <td>5.3</td>\n",
              "      <td>6.3</td>\n",
              "      <td>6.90</td>\n",
              "      <td>6.9</td>\n",
              "      <td>4.70</td>\n",
              "      <td>6.5</td>\n",
              "      <td>6.7</td>\n",
              "      <td>5.20</td>\n",
              "      <td>8.00</td>\n",
              "      <td>7.6</td>\n",
              "      <td>7.10</td>\n",
              "      <td>7.10</td>\n",
              "      <td>6.7</td>\n",
              "      <td>7.00</td>\n",
              "      <td>6.9</td>\n",
              "      <td>7.10</td>\n",
              "      <td>7.3</td>\n",
              "      <td>7.90</td>\n",
              "      <td>6.0</td>\n",
              "      <td>6.90</td>\n",
              "    </tr>\n",
              "    <tr>\n",
              "      <th>A1CF</th>\n",
              "      <td>4.70</td>\n",
              "      <td>5.7</td>\n",
              "      <td>3.0</td>\n",
              "      <td>5.1</td>\n",
              "      <td>4.40</td>\n",
              "      <td>4.2</td>\n",
              "      <td>1.6</td>\n",
              "      <td>6.8</td>\n",
              "      <td>6.00</td>\n",
              "      <td>NaN</td>\n",
              "      <td>6.9</td>\n",
              "      <td>4.60</td>\n",
              "      <td>NaN</td>\n",
              "      <td>6.20</td>\n",
              "      <td>4.5</td>\n",
              "      <td>3.1</td>\n",
              "      <td>5.7</td>\n",
              "      <td>5.30</td>\n",
              "      <td>1.2</td>\n",
              "      <td>4.7</td>\n",
              "      <td>4.20</td>\n",
              "      <td>5.2</td>\n",
              "      <td>5.60</td>\n",
              "      <td>7.5</td>\n",
              "      <td>7.40</td>\n",
              "      <td>5.20</td>\n",
              "      <td>5.6</td>\n",
              "      <td>1.30</td>\n",
              "      <td>2.10</td>\n",
              "      <td>6.9</td>\n",
              "      <td>7.2</td>\n",
              "      <td>6.6</td>\n",
              "      <td>8.3</td>\n",
              "      <td>7.00</td>\n",
              "      <td>8.5</td>\n",
              "      <td>3.10</td>\n",
              "      <td>8.20</td>\n",
              "      <td>5.20</td>\n",
              "      <td>2.70</td>\n",
              "      <td>2.20</td>\n",
              "      <td>...</td>\n",
              "      <td>4.5</td>\n",
              "      <td>5.90</td>\n",
              "      <td>2.9</td>\n",
              "      <td>3.10</td>\n",
              "      <td>6.9</td>\n",
              "      <td>6.9</td>\n",
              "      <td>4.6</td>\n",
              "      <td>6.5</td>\n",
              "      <td>-1.2</td>\n",
              "      <td>0.90</td>\n",
              "      <td>7.00</td>\n",
              "      <td>6.0</td>\n",
              "      <td>4.20</td>\n",
              "      <td>5.4</td>\n",
              "      <td>5.3</td>\n",
              "      <td>1.1</td>\n",
              "      <td>6.20</td>\n",
              "      <td>5.80</td>\n",
              "      <td>6.7</td>\n",
              "      <td>4.9</td>\n",
              "      <td>7.2</td>\n",
              "      <td>4.4</td>\n",
              "      <td>6.40</td>\n",
              "      <td>4.8</td>\n",
              "      <td>7.00</td>\n",
              "      <td>6.4</td>\n",
              "      <td>6.0</td>\n",
              "      <td>5.30</td>\n",
              "      <td>5.60</td>\n",
              "      <td>5.4</td>\n",
              "      <td>5.40</td>\n",
              "      <td>6.40</td>\n",
              "      <td>6.5</td>\n",
              "      <td>4.40</td>\n",
              "      <td>3.3</td>\n",
              "      <td>3.60</td>\n",
              "      <td>6.2</td>\n",
              "      <td>1.20</td>\n",
              "      <td>4.9</td>\n",
              "      <td>2.00</td>\n",
              "    </tr>\n",
              "    <tr>\n",
              "      <th>A2BP1</th>\n",
              "      <td>-1.00</td>\n",
              "      <td>1.1</td>\n",
              "      <td>NaN</td>\n",
              "      <td>NaN</td>\n",
              "      <td>0.10</td>\n",
              "      <td>NaN</td>\n",
              "      <td>NaN</td>\n",
              "      <td>1.7</td>\n",
              "      <td>0.40</td>\n",
              "      <td>-1.50</td>\n",
              "      <td>1.6</td>\n",
              "      <td>0.70</td>\n",
              "      <td>-0.9</td>\n",
              "      <td>0.30</td>\n",
              "      <td>1.3</td>\n",
              "      <td>NaN</td>\n",
              "      <td>NaN</td>\n",
              "      <td>NaN</td>\n",
              "      <td>-0.1</td>\n",
              "      <td>1.3</td>\n",
              "      <td>NaN</td>\n",
              "      <td>NaN</td>\n",
              "      <td>NaN</td>\n",
              "      <td>0.3</td>\n",
              "      <td>1.10</td>\n",
              "      <td>1.50</td>\n",
              "      <td>NaN</td>\n",
              "      <td>1.00</td>\n",
              "      <td>-0.40</td>\n",
              "      <td>3.6</td>\n",
              "      <td>NaN</td>\n",
              "      <td>-0.8</td>\n",
              "      <td>-1.0</td>\n",
              "      <td>NaN</td>\n",
              "      <td>NaN</td>\n",
              "      <td>0.40</td>\n",
              "      <td>NaN</td>\n",
              "      <td>-1.30</td>\n",
              "      <td>NaN</td>\n",
              "      <td>NaN</td>\n",
              "      <td>...</td>\n",
              "      <td>NaN</td>\n",
              "      <td>0.40</td>\n",
              "      <td>-0.1</td>\n",
              "      <td>-1.00</td>\n",
              "      <td>3.7</td>\n",
              "      <td>1.8</td>\n",
              "      <td>-0.3</td>\n",
              "      <td>1.5</td>\n",
              "      <td>-1.2</td>\n",
              "      <td>NaN</td>\n",
              "      <td>0.00</td>\n",
              "      <td>-0.1</td>\n",
              "      <td>NaN</td>\n",
              "      <td>NaN</td>\n",
              "      <td>NaN</td>\n",
              "      <td>NaN</td>\n",
              "      <td>-0.50</td>\n",
              "      <td>-0.70</td>\n",
              "      <td>-1.2</td>\n",
              "      <td>0.1</td>\n",
              "      <td>0.7</td>\n",
              "      <td>-1.0</td>\n",
              "      <td>-0.90</td>\n",
              "      <td>NaN</td>\n",
              "      <td>6.60</td>\n",
              "      <td>0.6</td>\n",
              "      <td>0.4</td>\n",
              "      <td>-1.10</td>\n",
              "      <td>-0.70</td>\n",
              "      <td>1.0</td>\n",
              "      <td>3.50</td>\n",
              "      <td>1.30</td>\n",
              "      <td>-0.3</td>\n",
              "      <td>NaN</td>\n",
              "      <td>2.1</td>\n",
              "      <td>2.00</td>\n",
              "      <td>0.0</td>\n",
              "      <td>NaN</td>\n",
              "      <td>2.0</td>\n",
              "      <td>NaN</td>\n",
              "    </tr>\n",
              "    <tr>\n",
              "      <th>A2LD1</th>\n",
              "      <td>7.50</td>\n",
              "      <td>6.8</td>\n",
              "      <td>7.3</td>\n",
              "      <td>7.5</td>\n",
              "      <td>7.40</td>\n",
              "      <td>6.6</td>\n",
              "      <td>7.1</td>\n",
              "      <td>6.8</td>\n",
              "      <td>8.00</td>\n",
              "      <td>5.80</td>\n",
              "      <td>7.1</td>\n",
              "      <td>7.70</td>\n",
              "      <td>6.4</td>\n",
              "      <td>6.50</td>\n",
              "      <td>6.9</td>\n",
              "      <td>6.0</td>\n",
              "      <td>8.2</td>\n",
              "      <td>8.40</td>\n",
              "      <td>6.4</td>\n",
              "      <td>7.1</td>\n",
              "      <td>6.40</td>\n",
              "      <td>8.1</td>\n",
              "      <td>6.60</td>\n",
              "      <td>7.7</td>\n",
              "      <td>7.10</td>\n",
              "      <td>7.50</td>\n",
              "      <td>6.0</td>\n",
              "      <td>6.50</td>\n",
              "      <td>7.30</td>\n",
              "      <td>6.3</td>\n",
              "      <td>6.7</td>\n",
              "      <td>5.5</td>\n",
              "      <td>6.4</td>\n",
              "      <td>5.50</td>\n",
              "      <td>3.8</td>\n",
              "      <td>6.60</td>\n",
              "      <td>4.40</td>\n",
              "      <td>7.00</td>\n",
              "      <td>6.80</td>\n",
              "      <td>6.80</td>\n",
              "      <td>...</td>\n",
              "      <td>6.6</td>\n",
              "      <td>6.80</td>\n",
              "      <td>6.8</td>\n",
              "      <td>6.70</td>\n",
              "      <td>6.7</td>\n",
              "      <td>6.2</td>\n",
              "      <td>6.8</td>\n",
              "      <td>7.2</td>\n",
              "      <td>5.3</td>\n",
              "      <td>7.30</td>\n",
              "      <td>8.20</td>\n",
              "      <td>7.7</td>\n",
              "      <td>6.60</td>\n",
              "      <td>8.0</td>\n",
              "      <td>7.5</td>\n",
              "      <td>6.9</td>\n",
              "      <td>6.40</td>\n",
              "      <td>7.00</td>\n",
              "      <td>6.7</td>\n",
              "      <td>7.3</td>\n",
              "      <td>7.5</td>\n",
              "      <td>6.8</td>\n",
              "      <td>7.00</td>\n",
              "      <td>7.1</td>\n",
              "      <td>6.70</td>\n",
              "      <td>7.4</td>\n",
              "      <td>7.1</td>\n",
              "      <td>7.40</td>\n",
              "      <td>6.80</td>\n",
              "      <td>6.1</td>\n",
              "      <td>6.50</td>\n",
              "      <td>7.30</td>\n",
              "      <td>6.1</td>\n",
              "      <td>6.70</td>\n",
              "      <td>6.5</td>\n",
              "      <td>6.70</td>\n",
              "      <td>6.7</td>\n",
              "      <td>6.50</td>\n",
              "      <td>6.9</td>\n",
              "      <td>6.70</td>\n",
              "    </tr>\n",
              "  </tbody>\n",
              "</table>\n",
              "<p>5 rows × 183 columns</p>\n",
              "</div>"
            ],
            "text/plain": [
              "cid      aab1-Primary solid Tumor  ...  aapl-Primary solid Tumor\n",
              "rid                                ...                          \n",
              "SLC35E2                      7.45  ...                      9.05\n",
              "A1BG                         6.40  ...                      6.90\n",
              "A1CF                         4.70  ...                      2.00\n",
              "A2BP1                       -1.00  ...                       NaN\n",
              "A2LD1                        7.50  ...                      6.70\n",
              "\n",
              "[5 rows x 183 columns]"
            ]
          },
          "metadata": {
            "tags": []
          },
          "execution_count": 8
        }
      ]
    },
    {
      "cell_type": "code",
      "metadata": {
        "id": "r0jJWtwwOkOx",
        "colab_type": "code",
        "outputId": "6d228ca4-f2cc-4b33-c487-fe29bf26e7fb",
        "colab": {
          "base_uri": "https://localhost:8080/",
          "height": 34
        }
      },
      "source": [
        "#print the shape of 1st dataframe\n",
        "print(\"Data Shape: {}\".format(str(data_df.shape)))"
      ],
      "execution_count": 9,
      "outputs": [
        {
          "output_type": "stream",
          "text": [
            "Data Shape: (18465, 183)\n"
          ],
          "name": "stdout"
        }
      ]
    },
    {
      "cell_type": "code",
      "metadata": {
        "id": "NKm8Tz7KOkO3",
        "colab_type": "code",
        "colab": {}
      },
      "source": [
        "#cleaning of data: Remove the genes from 1st dataframe, which have NULL values in it. It is necessary for further processing.\n",
        "new_data_df = data_df.dropna()"
      ],
      "execution_count": 0,
      "outputs": []
    },
    {
      "cell_type": "code",
      "metadata": {
        "id": "_K5PODcHOkO8",
        "colab_type": "code",
        "outputId": "917bb6f0-a1b5-4030-c3ee-e33972c72fe9",
        "colab": {
          "base_uri": "https://localhost:8080/",
          "height": 34
        }
      },
      "source": [
        "#Size of 1st dataframe after data cleaning (removal of NULL values.).\n",
        "print(\"Data Shape: {}\".format(str(new_data_df.shape)))"
      ],
      "execution_count": 11,
      "outputs": [
        {
          "output_type": "stream",
          "text": [
            "Data Shape: (14098, 183)\n"
          ],
          "name": "stdout"
        }
      ]
    },
    {
      "cell_type": "code",
      "metadata": {
        "id": "oucBJDn6OkPB",
        "colab_type": "code",
        "outputId": "88811ff5-483d-4e37-9f1a-5825f47403fa",
        "colab": {
          "base_uri": "https://localhost:8080/",
          "height": 34
        }
      },
      "source": [
        "#Number of genes with NaN values.\n",
        "print(\"Number of NaNs: {}\".format(data_df.shape[0] - new_data_df.shape[0]))"
      ],
      "execution_count": 12,
      "outputs": [
        {
          "output_type": "stream",
          "text": [
            "Number of NaNs: 4367\n"
          ],
          "name": "stdout"
        }
      ]
    },
    {
      "cell_type": "code",
      "metadata": {
        "id": "eewDlBPuP7L5",
        "colab_type": "code",
        "outputId": "a2c5fe39-37d8-4f55-b386-508c97437ed7",
        "colab": {
          "base_uri": "https://localhost:8080/",
          "height": 34
        }
      },
      "source": [
        "# get gene names in the list \"rid\" which is the index of the dataframe \"new_data_df\" \n",
        "rid = list(new_data_df.index.values.tolist()) \n",
        "print(rid[:5])"
      ],
      "execution_count": 13,
      "outputs": [
        {
          "output_type": "stream",
          "text": [
            "['SLC35E2', 'A1BG', 'A2LD1', 'A2M', 'A4GALT']\n"
          ],
          "name": "stdout"
        }
      ]
    },
    {
      "cell_type": "code",
      "metadata": {
        "id": "d7WtZqOsQGaN",
        "colab_type": "code",
        "outputId": "f30bd311-1171-46c1-f195-3c6e3f8b9a8a",
        "colab": {
          "base_uri": "https://localhost:8080/",
          "height": 34
        }
      },
      "source": [
        "# get sample names in the list \"cid\" which is the column name of the dataframe \"new_data_df\"\n",
        "cid = list(new_data_df.columns.values.tolist())\n",
        "print(cid[:5])"
      ],
      "execution_count": 14,
      "outputs": [
        {
          "output_type": "stream",
          "text": [
            "['aab1-Primary solid Tumor', 'aab4-Primary solid Tumor', 'aab6-Primary solid Tumor', 'aab8-Primary solid Tumor', 'aab9-Primary solid Tumor']\n"
          ],
          "name": "stdout"
        }
      ]
    },
    {
      "cell_type": "code",
      "metadata": {
        "id": "ypYXJeffQMBP",
        "colab_type": "code",
        "outputId": "11608373-7f3e-48c6-c3c2-e794329dba61",
        "colab": {
          "base_uri": "https://localhost:8080/",
          "height": 51
        }
      },
      "source": [
        "gene_expression = new_data_df.values.tolist()\n",
        "print('Length of gene_expression list is: {}'.format(len(gene_expression)))\n",
        "print('Length of each element of gene_expression is: {}'.format(len(gene_expression[0])))"
      ],
      "execution_count": 15,
      "outputs": [
        {
          "output_type": "stream",
          "text": [
            "Length of gene_expression list is: 14098\n",
            "Length of each element of gene_expression is: 183\n"
          ],
          "name": "stdout"
        }
      ]
    },
    {
      "cell_type": "markdown",
      "metadata": {
        "id": "oXS-jBmK0fmo",
        "colab_type": "text"
      },
      "source": [
        "#Generation of gene expression distribution for all samples:\n",
        "\n",
        "Here we plot the expression (numerical value which ranges from 0 to 15, e.g. 7.5 or 11.2 etc.)\n",
        "Points for understanding graph:\n",
        "- x-axis of heatmap graph has sample names\n",
        "- y-axis of heatmap graph has the gene id\n",
        "- The colour signifies the value of gene expression corresponding to each sample. So the colour bar on the right, helps us to get the insight into the distribution of gene expression as the values are encoded via colour.\n"
      ]
    },
    {
      "cell_type": "code",
      "metadata": {
        "id": "r0vN9sxf6YhB",
        "colab_type": "code",
        "colab": {}
      },
      "source": [
        "def configure_plotly_browser_state():\n",
        "    '''It enables to display the plotly graphs'''\n",
        "    import IPython\n",
        "    display(IPython.core.display.HTML('''\n",
        "        <script src=\"/static/components/requirejs/require.js\"></script>\n",
        "        <script>\n",
        "          requirejs.config({\n",
        "            paths: {\n",
        "              base: '/static/base',\n",
        "              plotly: 'https://cdn.plot.ly/plotly-1.5.1.min.js?noext',\n",
        "            },\n",
        "          });\n",
        "        </script>\n",
        "        '''))"
      ],
      "execution_count": 0,
      "outputs": []
    },
    {
      "cell_type": "markdown",
      "metadata": {
        "id": "eDmWN4PgsMAz",
        "colab_type": "text"
      },
      "source": [
        "### Visualization of all the data using Phantasus tool online.\n",
        "\n",
        "![data_gene](https://user-images.githubusercontent.com/36000962/75327868-17c63280-58a3-11ea-87b1-2d9e1b5ddfcf.png)"
      ]
    },
    {
      "cell_type": "code",
      "metadata": {
        "id": "JdtONUzKPs2a",
        "colab_type": "code",
        "colab": {}
      },
      "source": [
        "configure_plotly_browser_state()\n",
        "import plotly.graph_objects as go\n",
        "import plotly.offline as pyo\n",
        "pyo.init_notebook_mode()\n",
        "\n",
        "fig = go.Figure(data=go.Heatmap(\n",
        "                   z=gene_expression[0:100],\n",
        "                   x=cid[0:100],\n",
        "                   y=rid[0:100],\n",
        "                   hoverongaps = False))\n",
        "fig.show()"
      ],
      "execution_count": 0,
      "outputs": []
    },
    {
      "cell_type": "markdown",
      "metadata": {
        "id": "mq0cWVTMpilV",
        "colab_type": "text"
      },
      "source": [
        "### Image of the all sample gene distribution\n",
        "\n",
        "![gene_distribution](https://user-images.githubusercontent.com/36000962/75326736-2875a900-58a1-11ea-9354-4d566826fdda.png)"
      ]
    },
    {
      "cell_type": "code",
      "metadata": {
        "id": "sNVWslMWOkPH",
        "colab_type": "code",
        "colab": {}
      },
      "source": [
        "#Creating numpy array for further analysis. (We'll use PCA Technique for dimensionality reduction)\n",
        "xx = new_data_df.values.T"
      ],
      "execution_count": 0,
      "outputs": []
    },
    {
      "cell_type": "code",
      "metadata": {
        "id": "my2JZhF0OkPM",
        "colab_type": "code",
        "outputId": "e8b6e001-b1aa-4261-b673-58c0dcaa461e",
        "colab": {
          "base_uri": "https://localhost:8080/",
          "height": 34
        }
      },
      "source": [
        "xx.shape"
      ],
      "execution_count": 19,
      "outputs": [
        {
          "output_type": "execute_result",
          "data": {
            "text/plain": [
              "(183, 14098)"
            ]
          },
          "metadata": {
            "tags": []
          },
          "execution_count": 19
        }
      ]
    },
    {
      "cell_type": "code",
      "metadata": {
        "id": "uuQ9JitwOkPT",
        "colab_type": "code",
        "outputId": "a910e90a-079c-4f58-b7ca-31ccbfafdf9c",
        "colab": {
          "base_uri": "https://localhost:8080/",
          "height": 136
        }
      },
      "source": [
        "xx"
      ],
      "execution_count": 20,
      "outputs": [
        {
          "output_type": "execute_result",
          "data": {
            "text/plain": [
              "array([[ 7.45,  6.4 ,  7.5 , ..., 12.9 , 10.1 ,  9.3 ],\n",
              "       [ 8.1 ,  5.8 ,  6.8 , ..., 12.4 ,  9.8 ,  8.9 ],\n",
              "       [ 7.2 ,  6.4 ,  7.3 , ..., 13.5 ,  9.8 ,  9.2 ],\n",
              "       ...,\n",
              "       [ 7.35,  7.9 ,  6.5 , ..., 13.2 ,  9.8 ,  8.6 ],\n",
              "       [ 7.2 ,  6.  ,  6.9 , ..., 12.3 ,  9.6 ,  8.4 ],\n",
              "       [ 9.05,  6.9 ,  6.7 , ..., 12.3 , 10.9 ,  9.4 ]], dtype=float32)"
            ]
          },
          "metadata": {
            "tags": []
          },
          "execution_count": 20
        }
      ]
    },
    {
      "cell_type": "code",
      "metadata": {
        "id": "-ENTU9DFOkPY",
        "colab_type": "code",
        "colab": {}
      },
      "source": [
        "from sklearn.decomposition import PCA"
      ],
      "execution_count": 0,
      "outputs": []
    },
    {
      "cell_type": "code",
      "metadata": {
        "id": "QzP7TmO0OkPc",
        "colab_type": "code",
        "colab": {}
      },
      "source": [
        "pca = PCA(n_components=2)"
      ],
      "execution_count": 0,
      "outputs": []
    },
    {
      "cell_type": "code",
      "metadata": {
        "id": "t9o8Ghb0OkPi",
        "colab_type": "code",
        "colab": {}
      },
      "source": [
        "yy = pca.fit_transform(xx)"
      ],
      "execution_count": 0,
      "outputs": []
    },
    {
      "cell_type": "markdown",
      "metadata": {
        "id": "ENvPEAXm18Cc",
        "colab_type": "text"
      },
      "source": [
        "# Variance of PCA:"
      ]
    },
    {
      "cell_type": "code",
      "metadata": {
        "id": "0asf6ShTOkPn",
        "colab_type": "code",
        "outputId": "16118a53-0cf2-4420-e907-f6c8f4cbb5f9",
        "colab": {
          "base_uri": "https://localhost:8080/",
          "height": 34
        }
      },
      "source": [
        "#This is the variance of gene expression across all samples (Calculated using PCA.)\n",
        "print(pca.explained_variance_ratio_)"
      ],
      "execution_count": 24,
      "outputs": [
        {
          "output_type": "stream",
          "text": [
            "[0.1705082  0.14845681]\n"
          ],
          "name": "stdout"
        }
      ]
    },
    {
      "cell_type": "code",
      "metadata": {
        "id": "t-3H2zR1OkPr",
        "colab_type": "code",
        "outputId": "a44749f6-33f4-4f33-a932-f21f9a48a530",
        "colab": {
          "base_uri": "https://localhost:8080/",
          "height": 34
        }
      },
      "source": [
        "yy.shape"
      ],
      "execution_count": 25,
      "outputs": [
        {
          "output_type": "execute_result",
          "data": {
            "text/plain": [
              "(183, 2)"
            ]
          },
          "metadata": {
            "tags": []
          },
          "execution_count": 25
        }
      ]
    },
    {
      "cell_type": "markdown",
      "metadata": {
        "id": "Zou_b3pv2B_I",
        "colab_type": "text"
      },
      "source": [
        ""
      ]
    },
    {
      "cell_type": "markdown",
      "metadata": {
        "id": "se0XdXKw2CCj",
        "colab_type": "text"
      },
      "source": [
        "#Using PCA result for plotting the data. \n",
        "#### We already know that the data is  for two broad categories of Pancreatic Cancer:\n",
        "- Exocrine\n",
        "- Neuroendocrine\n",
        "\n",
        "So based on that, there will be 2 different clusters of data points.\n",
        "\n",
        "**Here I used the 'histological_type_other' data to seperate the two type of cancers.**"
      ]
    },
    {
      "cell_type": "code",
      "metadata": {
        "id": "-_Ydlt-lOkP0",
        "colab_type": "code",
        "colab": {}
      },
      "source": [
        "colors = dict(mcolors.BASE_COLORS, **mcolors.CSS4_COLORS)\n",
        "# Sort colors by hue, saturation, value and name.\n",
        "by_hsv = sorted((tuple(mcolors.rgb_to_hsv(mcolors.to_rgba(color)[:3])), name)\n",
        "                for name, color in colors.items())\n",
        "sorted_names = [name for hsv, name in by_hsv]"
      ],
      "execution_count": 0,
      "outputs": []
    },
    {
      "cell_type": "code",
      "metadata": {
        "id": "wTsce7wMOkOr",
        "colab_type": "code",
        "colab": {}
      },
      "source": [
        "# sorted_names"
      ],
      "execution_count": 0,
      "outputs": []
    },
    {
      "cell_type": "code",
      "metadata": {
        "id": "b7lSPd5wRc3o",
        "colab_type": "code",
        "colab": {}
      },
      "source": [
        "c = [\"violet\", \"brown\", \"orange\", \"maroon\", \"purple\", \"crimson\", \"black\", \"maroon\", \"orange\", \"lightyellow\", \"darkgreen\", \"deeppink\", \"royalblue\", \"darkred\", \"darkgray\"]"
      ],
      "execution_count": 0,
      "outputs": []
    },
    {
      "cell_type": "code",
      "metadata": {
        "id": "MKFBSDgvSwbG",
        "colab_type": "code",
        "colab": {}
      },
      "source": [
        "histological_type_other_unique = [str(i) for i in list(col_metadata_df['histological_type_other'].unique())]"
      ],
      "execution_count": 0,
      "outputs": []
    },
    {
      "cell_type": "code",
      "metadata": {
        "id": "w0xu7wfvOkP4",
        "colab_type": "code",
        "outputId": "51e867a4-4dbe-4b31-bbaa-c81f33eaef71",
        "colab": {
          "base_uri": "https://localhost:8080/",
          "height": 272
        }
      },
      "source": [
        "histological_type_other_unique"
      ],
      "execution_count": 30,
      "outputs": [
        {
          "output_type": "execute_result",
          "data": {
            "text/plain": [
              "['invasive adenocarcinoma',\n",
              " 'invasive, well-differentiated',\n",
              " 'nan',\n",
              " 'poorly differentiated adenocarcinoma',\n",
              " 'neuroendocrine',\n",
              " 'neuroendocrine carcinoma nos',\n",
              " '82463 neuroendocrine carcinoma nos',\n",
              " 'neuroendocrine carcinoma',\n",
              " 'adenocarcinoma, nos',\n",
              " 'poorly differentiated pancreatic adenocarcinoma',\n",
              " 'not specified',\n",
              " 'intraductal tubulopapillary neoplasm',\n",
              " 'ductal and micropapillary',\n",
              " 'adenocarcinoma- nos',\n",
              " 'moderately differentiated ductal adenocarcinoma 60% + neuroendocrine 40%']"
            ]
          },
          "metadata": {
            "tags": []
          },
          "execution_count": 30
        }
      ]
    },
    {
      "cell_type": "code",
      "metadata": {
        "id": "RpmumW4dOkP9",
        "colab_type": "code",
        "colab": {}
      },
      "source": [
        "color_dict = dict()\n",
        "for label, c in zip(histological_type_other_unique, c):\n",
        "    color_dict[label] = c"
      ],
      "execution_count": 0,
      "outputs": []
    },
    {
      "cell_type": "code",
      "metadata": {
        "id": "22keRArrOkQC",
        "colab_type": "code",
        "outputId": "006a505b-10b2-4e0b-97ae-264dbb73cf57",
        "colab": {
          "base_uri": "https://localhost:8080/",
          "height": 272
        }
      },
      "source": [
        "color_dict"
      ],
      "execution_count": 32,
      "outputs": [
        {
          "output_type": "execute_result",
          "data": {
            "text/plain": [
              "{'82463 neuroendocrine carcinoma nos': 'black',\n",
              " 'adenocarcinoma, nos': 'orange',\n",
              " 'adenocarcinoma- nos': 'darkred',\n",
              " 'ductal and micropapillary': 'royalblue',\n",
              " 'intraductal tubulopapillary neoplasm': 'deeppink',\n",
              " 'invasive adenocarcinoma': 'violet',\n",
              " 'invasive, well-differentiated': 'brown',\n",
              " 'moderately differentiated ductal adenocarcinoma 60% + neuroendocrine 40%': 'darkgray',\n",
              " 'nan': 'orange',\n",
              " 'neuroendocrine': 'purple',\n",
              " 'neuroendocrine carcinoma': 'maroon',\n",
              " 'neuroendocrine carcinoma nos': 'crimson',\n",
              " 'not specified': 'darkgreen',\n",
              " 'poorly differentiated adenocarcinoma': 'maroon',\n",
              " 'poorly differentiated pancreatic adenocarcinoma': 'lightyellow'}"
            ]
          },
          "metadata": {
            "tags": []
          },
          "execution_count": 32
        }
      ]
    },
    {
      "cell_type": "code",
      "metadata": {
        "id": "2FIiSP-UWIt6",
        "colab_type": "code",
        "colab": {}
      },
      "source": [
        "color_labels = [color_dict[str(i)] for i in list(col_metadata_df['histological_type_other'])]"
      ],
      "execution_count": 0,
      "outputs": []
    },
    {
      "cell_type": "markdown",
      "metadata": {
        "id": "4cB0gE8o2ySV",
        "colab_type": "text"
      },
      "source": [
        "# PCA plot:\n",
        "\n",
        "We can clearly that the data is concentrated in a certain region.\n",
        "So we'll do further analysis on this data which is for Exocrine type."
      ]
    },
    {
      "cell_type": "code",
      "metadata": {
        "id": "1k1_kz5OZCrY",
        "colab_type": "code",
        "outputId": "a7867d18-6dd8-472e-e14d-bc57b18dd1d4",
        "colab": {
          "base_uri": "https://localhost:8080/",
          "height": 282
        }
      },
      "source": [
        "plt.scatter(yy[:,0], yy[:,1], c=color_labels)"
      ],
      "execution_count": 34,
      "outputs": [
        {
          "output_type": "execute_result",
          "data": {
            "text/plain": [
              "<matplotlib.collections.PathCollection at 0x7fed41314d68>"
            ]
          },
          "metadata": {
            "tags": []
          },
          "execution_count": 34
        },
        {
          "output_type": "display_data",
          "data": {
            "image/png": "[encoded data removed]",
            "text/plain": [
              "<Figure size 432x288 with 1 Axes>"
            ]
          },
          "metadata": {
            "tags": []
          }
        }
      ]
    },
    {
      "cell_type": "markdown",
      "metadata": {
        "id": "jDFujF7OZpve",
        "colab_type": "text"
      },
      "source": [
        "We can see that most of the points are concentrated in the particular range of PC1 and PC2 values.\n",
        "So we can separate the samples from Neuroendocrine and Exocrine.\n",
        "The outliers are -75 < PC1 < 75. I choose this range as it is PC1 and more prominant feature. and other constraint is PC2 < 50. It will provide us to clearly seperate the outliers. So in next step, We'll remove the outlier samples from the dataframe. "
      ]
    },
    {
      "cell_type": "code",
      "metadata": {
        "id": "-ireazqqaxn0",
        "colab_type": "code",
        "outputId": "63597c67-96c0-4699-e911-96004e32c987",
        "colab": {
          "base_uri": "https://localhost:8080/",
          "height": 204
        }
      },
      "source": [
        "import pandas as pd\n",
        "pp = pd.DataFrame(yy, columns=['PC1', 'PC2'], index=cid)\n",
        "pp.head()"
      ],
      "execution_count": 35,
      "outputs": [
        {
          "output_type": "execute_result",
          "data": {
            "text/html": [
              "<div>\n",
              "<style scoped>\n",
              "    .dataframe tbody tr th:only-of-type {\n",
              "        vertical-align: middle;\n",
              "    }\n",
              "\n",
              "    .dataframe tbody tr th {\n",
              "        vertical-align: top;\n",
              "    }\n",
              "\n",
              "    .dataframe thead th {\n",
              "        text-align: right;\n",
              "    }\n",
              "</style>\n",
              "<table border=\"1\" class=\"dataframe\">\n",
              "  <thead>\n",
              "    <tr style=\"text-align: right;\">\n",
              "      <th></th>\n",
              "      <th>PC1</th>\n",
              "      <th>PC2</th>\n",
              "    </tr>\n",
              "  </thead>\n",
              "  <tbody>\n",
              "    <tr>\n",
              "      <th>aab1-Primary solid Tumor</th>\n",
              "      <td>19.377565</td>\n",
              "      <td>-14.983474</td>\n",
              "    </tr>\n",
              "    <tr>\n",
              "      <th>aab4-Primary solid Tumor</th>\n",
              "      <td>6.459735</td>\n",
              "      <td>-7.324437</td>\n",
              "    </tr>\n",
              "    <tr>\n",
              "      <th>aab6-Primary solid Tumor</th>\n",
              "      <td>22.107016</td>\n",
              "      <td>-12.287171</td>\n",
              "    </tr>\n",
              "    <tr>\n",
              "      <th>aab8-Primary solid Tumor</th>\n",
              "      <td>14.004171</td>\n",
              "      <td>-25.846382</td>\n",
              "    </tr>\n",
              "    <tr>\n",
              "      <th>aab9-Primary solid Tumor</th>\n",
              "      <td>-14.081426</td>\n",
              "      <td>-4.000464</td>\n",
              "    </tr>\n",
              "  </tbody>\n",
              "</table>\n",
              "</div>"
            ],
            "text/plain": [
              "                                PC1        PC2\n",
              "aab1-Primary solid Tumor  19.377565 -14.983474\n",
              "aab4-Primary solid Tumor   6.459735  -7.324437\n",
              "aab6-Primary solid Tumor  22.107016 -12.287171\n",
              "aab8-Primary solid Tumor  14.004171 -25.846382\n",
              "aab9-Primary solid Tumor -14.081426  -4.000464"
            ]
          },
          "metadata": {
            "tags": []
          },
          "execution_count": 35
        }
      ]
    },
    {
      "cell_type": "code",
      "metadata": {
        "id": "tImbPQT3cMRs",
        "colab_type": "code",
        "outputId": "2fd3d91c-7f91-476d-8b8d-2dd27b22f131",
        "colab": {
          "base_uri": "https://localhost:8080/",
          "height": 204
        }
      },
      "source": [
        "indexNames = pp[ (pp['PC1'] < -75) | (pp['PC1'] > 75) | (pp['PC2'] > 50)].index\n",
        "indexNames"
      ],
      "execution_count": 36,
      "outputs": [
        {
          "output_type": "execute_result",
          "data": {
            "text/plain": [
              "Index(['aaqm-Primary solid Tumor', 'a9ij-Primary solid Tumor',\n",
              "       'a9il-Primary solid Tumor', 'a9in-Primary solid Tumor',\n",
              "       'a9io-Primary solid Tumor', 'a9ir-Primary solid Tumor',\n",
              "       'a9is-Primary solid Tumor', 'a9iv-Primary solid Tumor',\n",
              "       '6880-Primary solid Tumor', 'aapp-Primary solid Tumor',\n",
              "       'aapu-Primary solid Tumor', 'aaq0-Primary solid Tumor',\n",
              "       'a7op-Primary solid Tumor', '7289-Primary solid Tumor',\n",
              "       '7920-Primary solid Tumor', '7923-Primary solid Tumor',\n",
              "       '7897-Primary solid Tumor', 'aauv-Primary solid Tumor',\n",
              "       'a776-Primary solid Tumor', 'a8lh-Primary solid Tumor'],\n",
              "      dtype='object')"
            ]
          },
          "metadata": {
            "tags": []
          },
          "execution_count": 36
        }
      ]
    },
    {
      "cell_type": "code",
      "metadata": {
        "id": "EMEGVY3oc53W",
        "colab_type": "code",
        "outputId": "5b8a8741-e3cb-4ddf-86f7-6674767a6348",
        "colab": {
          "base_uri": "https://localhost:8080/",
          "height": 34
        }
      },
      "source": [
        "print('Number of Neuroendocrine Tumors are: {}'.format(len(indexNames)))"
      ],
      "execution_count": 37,
      "outputs": [
        {
          "output_type": "stream",
          "text": [
            "Number of Neuroendocrine Tumors are: 20\n"
          ],
          "name": "stdout"
        }
      ]
    },
    {
      "cell_type": "code",
      "metadata": {
        "id": "ZynZse_RhQoh",
        "colab_type": "code",
        "outputId": "5c7111d3-61a7-46f9-a2f0-ed1c431fdda0",
        "colab": {
          "base_uri": "https://localhost:8080/",
          "height": 136
        }
      },
      "source": [
        "pp.info()"
      ],
      "execution_count": 38,
      "outputs": [
        {
          "output_type": "stream",
          "text": [
            "<class 'pandas.core.frame.DataFrame'>\n",
            "Index: 183 entries, aab1-Primary solid Tumor to aapl-Primary solid Tumor\n",
            "Data columns (total 2 columns):\n",
            "PC1    183 non-null float32\n",
            "PC2    183 non-null float32\n",
            "dtypes: float32(2)\n",
            "memory usage: 2.9+ KB\n"
          ],
          "name": "stdout"
        }
      ]
    },
    {
      "cell_type": "code",
      "metadata": {
        "id": "Rx-rX22KhRWy",
        "colab_type": "code",
        "colab": {}
      },
      "source": [
        "pp.drop(indexNames, inplace=True)"
      ],
      "execution_count": 0,
      "outputs": []
    },
    {
      "cell_type": "code",
      "metadata": {
        "id": "HZcssmwRh1ZB",
        "colab_type": "code",
        "outputId": "fc0dd172-6639-4297-aaa7-3b51cc32a165",
        "colab": {
          "base_uri": "https://localhost:8080/",
          "height": 136
        }
      },
      "source": [
        "pp.info()"
      ],
      "execution_count": 40,
      "outputs": [
        {
          "output_type": "stream",
          "text": [
            "<class 'pandas.core.frame.DataFrame'>\n",
            "Index: 163 entries, aab1-Primary solid Tumor to aapl-Primary solid Tumor\n",
            "Data columns (total 2 columns):\n",
            "PC1    163 non-null float32\n",
            "PC2    163 non-null float32\n",
            "dtypes: float32(2)\n",
            "memory usage: 2.5+ KB\n"
          ],
          "name": "stdout"
        }
      ]
    },
    {
      "cell_type": "markdown",
      "metadata": {
        "id": "pStHkhKj1dgJ",
        "colab_type": "text"
      },
      "source": [
        "Now, we know the samples, which fall in category of Pancreatic Adenocarcinoma, and we also know the genes responsible for type1 interferons (Type 1 IFN Signature). These genes are a set of 25 genes in homosapians.\n",
        "So To plot the gene expression, for pancreatic adenocarcinoma, We'll create a dataframe with these 25 genes as rows and the Sample name (Which is the index of the pp dataframe.) as columns."
      ]
    },
    {
      "cell_type": "code",
      "metadata": {
        "id": "UEKCXU4_3x-b",
        "colab_type": "code",
        "colab": {}
      },
      "source": [
        "with open('/content/drive/My Drive/Colab Notebooks/data/type1_IFN.txt', 'r') as f:\n",
        "    content = f.readlines()\n",
        "content = [x.strip() for x in content]"
      ],
      "execution_count": 0,
      "outputs": []
    },
    {
      "cell_type": "code",
      "metadata": {
        "id": "e1TYqGuY4ZOg",
        "colab_type": "code",
        "colab": {}
      },
      "source": [
        "# content"
      ],
      "execution_count": 0,
      "outputs": []
    },
    {
      "cell_type": "code",
      "metadata": {
        "id": "FZbKwDDj4aov",
        "colab_type": "code",
        "colab": {
          "base_uri": "https://localhost:8080/",
          "height": 170
        },
        "outputId": "9256c1c9-7b00-43a9-91af-a961a197d746"
      },
      "source": [
        "ifn1 = new_data_df.loc[content]"
      ],
      "execution_count": 43,
      "outputs": [
        {
          "output_type": "stream",
          "text": [
            "/usr/local/lib/python3.6/dist-packages/ipykernel_launcher.py:1: FutureWarning:\n",
            "\n",
            "\n",
            "Passing list-likes to .loc or [] with any missing label will raise\n",
            "KeyError in the future, you can use .reindex() as an alternative.\n",
            "\n",
            "See the documentation here:\n",
            "https://pandas.pydata.org/pandas-docs/stable/user_guide/indexing.html#deprecate-loc-reindex-listlike\n",
            "\n"
          ],
          "name": "stderr"
        }
      ]
    },
    {
      "cell_type": "code",
      "metadata": {
        "id": "aiUKq0sE6KJs",
        "colab_type": "code",
        "outputId": "b742b908-c7a6-4f18-a443-acd3bf28ed81",
        "colab": {
          "base_uri": "https://localhost:8080/",
          "height": 34
        }
      },
      "source": [
        "ifn1.shape"
      ],
      "execution_count": 44,
      "outputs": [
        {
          "output_type": "execute_result",
          "data": {
            "text/plain": [
              "(25, 183)"
            ]
          },
          "metadata": {
            "tags": []
          },
          "execution_count": 44
        }
      ]
    },
    {
      "cell_type": "code",
      "metadata": {
        "id": "RJea6LZj7t5C",
        "colab_type": "code",
        "colab": {}
      },
      "source": [
        "indexNames = indexNames.to_list()"
      ],
      "execution_count": 0,
      "outputs": []
    },
    {
      "cell_type": "code",
      "metadata": {
        "id": "jK8zF67c71GW",
        "colab_type": "code",
        "outputId": "42f177fd-123c-4882-90b7-8de94389d608",
        "colab": {
          "base_uri": "https://localhost:8080/",
          "height": 357
        }
      },
      "source": [
        "indexNames"
      ],
      "execution_count": 46,
      "outputs": [
        {
          "output_type": "execute_result",
          "data": {
            "text/plain": [
              "['aaqm-Primary solid Tumor',\n",
              " 'a9ij-Primary solid Tumor',\n",
              " 'a9il-Primary solid Tumor',\n",
              " 'a9in-Primary solid Tumor',\n",
              " 'a9io-Primary solid Tumor',\n",
              " 'a9ir-Primary solid Tumor',\n",
              " 'a9is-Primary solid Tumor',\n",
              " 'a9iv-Primary solid Tumor',\n",
              " '6880-Primary solid Tumor',\n",
              " 'aapp-Primary solid Tumor',\n",
              " 'aapu-Primary solid Tumor',\n",
              " 'aaq0-Primary solid Tumor',\n",
              " 'a7op-Primary solid Tumor',\n",
              " '7289-Primary solid Tumor',\n",
              " '7920-Primary solid Tumor',\n",
              " '7923-Primary solid Tumor',\n",
              " '7897-Primary solid Tumor',\n",
              " 'aauv-Primary solid Tumor',\n",
              " 'a776-Primary solid Tumor',\n",
              " 'a8lh-Primary solid Tumor']"
            ]
          },
          "metadata": {
            "tags": []
          },
          "execution_count": 46
        }
      ]
    },
    {
      "cell_type": "code",
      "metadata": {
        "id": "guWCozWk5Q55",
        "colab_type": "code",
        "colab": {}
      },
      "source": [
        "ifn1 = ifn1.drop(indexNames, axis=1)"
      ],
      "execution_count": 0,
      "outputs": []
    },
    {
      "cell_type": "code",
      "metadata": {
        "id": "oyQ01VCF74cS",
        "colab_type": "code",
        "outputId": "81feb648-ccbe-4c56-d0b8-b3ed5d76f4b8",
        "colab": {
          "base_uri": "https://localhost:8080/",
          "height": 34
        }
      },
      "source": [
        "ifn1.shape"
      ],
      "execution_count": 48,
      "outputs": [
        {
          "output_type": "execute_result",
          "data": {
            "text/plain": [
              "(25, 163)"
            ]
          },
          "metadata": {
            "tags": []
          },
          "execution_count": 48
        }
      ]
    },
    {
      "cell_type": "markdown",
      "metadata": {
        "id": "I-ZHX1rm3OOQ",
        "colab_type": "text"
      },
      "source": [
        "# The plot of distribution of 25 genes (Type 1 IFN Signature):\n",
        "\n",
        "The data I plotted here is of 25 genes and 163 samples (The samples which are Exocrine Type as we dropped those samples which were Neuroendocrine(20 samples))."
      ]
    },
    {
      "cell_type": "code",
      "metadata": {
        "id": "HMf7A5F_75xO",
        "colab_type": "code",
        "colab": {}
      },
      "source": [
        "configure_plotly_browser_state()\n",
        "import plotly.graph_objects as go\n",
        "import plotly.offline as pyo\n",
        "pyo.init_notebook_mode()\n",
        "\n",
        "fig = go.Figure(data=go.Heatmap(\n",
        "                   z=ifn1.values,\n",
        "                   x=ifn1.columns,\n",
        "                   y=ifn1.index,\n",
        "                   hoverongaps = False))\n",
        "fig.show()"
      ],
      "execution_count": 0,
      "outputs": []
    },
    {
      "cell_type": "markdown",
      "metadata": {
        "id": "64V-ZaPZpYhz",
        "colab_type": "text"
      },
      "source": [
        "### Image of the Type 1 IFN genes (25 genes) --> it's distribution across samples of Exocrine.\n",
        "\n",
        "![gene_25](https://user-images.githubusercontent.com/36000962/75326741-2b709980-58a1-11ea-9891-5ef9725f59dc.png)"
      ]
    },
    {
      "cell_type": "markdown",
      "metadata": {
        "id": "ARn_JkvTR3NN",
        "colab_type": "text"
      },
      "source": [
        "So, we can see the distribution of gene acorss different samples is like it has most values near 10, as the colour of heatmap near 10 is most likely observed. The yellow and blue have less frequency. So it signifies that a few values are around 14 and 4 respectively."
      ]
    },
    {
      "cell_type": "code",
      "metadata": {
        "id": "fNP35HjvShZ6",
        "colab_type": "code",
        "colab": {}
      },
      "source": [
        "#Save the 25 gene and 163 sample dataframe in CSV format for further analysis.(For use in GSVA algorithm)\n",
        "ifn1.to_csv('ifn1.csv')\n",
        "!cp ifn1.csv \"/content/drive/My Drive/Colab Notebooks/data/\""
      ],
      "execution_count": 0,
      "outputs": []
    },
    {
      "cell_type": "code",
      "metadata": {
        "id": "DVD3J5FDcLaC",
        "colab_type": "code",
        "colab": {}
      },
      "source": [
        ""
      ],
      "execution_count": 0,
      "outputs": []
    },
    {
      "cell_type": "markdown",
      "metadata": {
        "id": "cCnlw9vWgeC2",
        "colab_type": "text"
      },
      "source": [
        "### The output from GSVA algorithm is shown as the screenshot from the command terminal. I ran this algorithm in Docker.\n",
        "\n",
        "##### The file description is as following:\n",
        "- **ifn1.csv:** This file has 25 gene and 163 sample data in CSV format.\n",
        "- **ifn1_gmt_file.gmt:** This file is a GMT file which has the genes in tab separate values. *name </tab/> description </tab/> gene1 </tab/> gene2 </tab/> ... </tab/> geneN*\n",
        "- **example_pathways.csv:** This file has output from the GSVA algorithm in CSV format.\n",
        "\n",
        "\n",
        "![gsva](https://user-images.githubusercontent.com/36000962/75442862-4f59db00-5986-11ea-91ce-5ece6f0f7e54.png)\n"
      ]
    }
  ]
}